{
 "cells": [
  {
   "cell_type": "code",
   "execution_count": 3,
   "id": "0c45d788",
   "metadata": {},
   "outputs": [
    {
     "ename": "IndentationError",
     "evalue": "unexpected indent (1644821837.py, line 8)",
     "output_type": "error",
     "traceback": [
      "\u001b[1;36m  Cell \u001b[1;32mIn[3], line 8\u001b[1;36m\u001b[0m\n\u001b[1;33m    print(\"\\ta\\tb\\tc\")\u001b[0m\n\u001b[1;37m    ^\u001b[0m\n\u001b[1;31mIndentationError\u001b[0m\u001b[1;31m:\u001b[0m unexpected indent\n"
     ]
    }
   ],
   "source": [
    "# Question 1: What is the output of the following print statements?\n",
    "# print(\"\\ta\\tb\\tc\") \n",
    "# print(\"\\\\\\\\\")\n",
    "# print(\"'\")\n",
    "# print(\"\\\"\\\"\\\"\")\n",
    "# print(\"C:\\nin\\the downward spiral\")\n",
    "\n",
    "\n",
    "    print(\"\\ta\\tb\\tc\") \n",
    "    print(\"\\\\\\\\\")\n",
    "    print(\"'\")\n",
    "    print(\"\\\"\\\"\\\"\")\n",
    "    print(\"C:\\nin\\the downward spiral\")\n",
    "\n"
   ]
  },
  {
   "cell_type": "code",
   "execution_count": null,
   "id": "684abc6d",
   "metadata": {},
   "outputs": [],
   "source": []
  },
  {
   "cell_type": "code",
   "execution_count": 1,
   "id": "e3960367",
   "metadata": {},
   "outputs": [
    {
     "name": "stdout",
     "output_type": "stream",
     "text": [
      "/ \\ // \\\\ /// \\\\\\\n"
     ]
    }
   ],
   "source": [
    "# Question 2: Write a print statement to produce this output:\n",
    "/ \\ // \\\\ /// \\\\\\\n",
    "\n",
    "print(\"/ \\\\ // \\\\\\\\ /// \\\\\\\\\\\\\")"
   ]
  },
  {
   "cell_type": "code",
   "execution_count": 2,
   "id": "976a8319",
   "metadata": {},
   "outputs": [
    {
     "name": "stdout",
     "output_type": "stream",
     "text": [
      "This quote is from Irish poet Oscar Wilde:\n",
      "\"Music makes one feel so romantic\n",
      "\n",
      "- at least it always gets on one's nerves – which is the same thing nowadays.\"\n"
     ]
    }
   ],
   "source": [
    "# Question 3: 3.\tWhat print statements will generate this output?\n",
    "# This quote is from Irish poet Oscar Wilde:\n",
    "# \"Music makes one feel so romantic\n",
    "\n",
    "# - at least it always gets on one's nerves – which is the same thing nowadays.\"\n",
    "\n",
    "\n",
    "print(\"This quote is from Irish poet Oscar Wilde:\")\n",
    "print(\"\\\"Music makes one feel so romantic\\n\\n- at least it always gets on one's nerves – which is the same thing nowadays.\\\"\")"
   ]
  },
  {
   "cell_type": "code",
   "execution_count": 3,
   "id": "f4d7c6d8",
   "metadata": {},
   "outputs": [
    {
     "name": "stdout",
     "output_type": "stream",
     "text": [
      "A \"quoted\" String is 'much' better if you learn\n",
      "the rules of \"escape sequences.\" Also, \"\" represents an empty String.\n",
      "Don't forget: use \\\" instead of \" ! '' is not the same as \"\n"
     ]
    }
   ],
   "source": [
    "# Question 4:\tWhat print statements will generate this output?\n",
    "# A \"quoted\" String is 'much' better if you learn\n",
    "# the rules of \"escape sequences.\" Also, \"\" represents an empty String. \n",
    "# Don't forget: use \\\" instead of \" ! '' is not the same as \"\n",
    "\n",
    "\n",
    "print(\"A \\\"quoted\\\" String is 'much' better if you learn\")\n",
    "print(\"the rules of \\\"escape sequences.\\\" Also, \\\"\\\" represents an empty String.\")\n",
    "print(\"Don't forget: use \\\\\\\" instead of \\\" ! '' is not the same as \\\"\")"
   ]
  },
  {
   "cell_type": "code",
   "execution_count": 8,
   "id": "32e454e5",
   "metadata": {},
   "outputs": [
    {
     "data": {
      "text/plain": [
       "1.8"
      ]
     },
     "execution_count": 8,
     "metadata": {},
     "output_type": "execute_result"
    }
   ],
   "source": [
    "# Question 5: 5.\tWhat values result from the following expressions?\n",
    "# –\t9 / 5\n",
    "# –\t695 % 20\n",
    "# –\t7 + 6 * 5\n",
    "# –\t7 * 6 + 5\n",
    "# –\t248 % 100 / 5\n",
    "# –\t6 * 3 - 9 / 4\n",
    "# –\t(5 - 7) * 4\n",
    "# –\t6 + (18 % (17 - 12))\n",
    "\n",
    "9 / 5"
   ]
  },
  {
   "cell_type": "code",
   "execution_count": 9,
   "id": "84fbfd36",
   "metadata": {},
   "outputs": [
    {
     "data": {
      "text/plain": [
       "15"
      ]
     },
     "execution_count": 9,
     "metadata": {},
     "output_type": "execute_result"
    }
   ],
   "source": [
    "695 % 20"
   ]
  },
  {
   "cell_type": "code",
   "execution_count": 10,
   "id": "1f4d44e7",
   "metadata": {},
   "outputs": [
    {
     "data": {
      "text/plain": [
       "37"
      ]
     },
     "execution_count": 10,
     "metadata": {},
     "output_type": "execute_result"
    }
   ],
   "source": [
    "7 + 6 * 5"
   ]
  },
  {
   "cell_type": "code",
   "execution_count": 11,
   "id": "83e76213",
   "metadata": {},
   "outputs": [
    {
     "data": {
      "text/plain": [
       "47"
      ]
     },
     "execution_count": 11,
     "metadata": {},
     "output_type": "execute_result"
    }
   ],
   "source": [
    "7 * 6 + 5"
   ]
  },
  {
   "cell_type": "code",
   "execution_count": 12,
   "id": "cb52a312",
   "metadata": {},
   "outputs": [
    {
     "data": {
      "text/plain": [
       "9.6"
      ]
     },
     "execution_count": 12,
     "metadata": {},
     "output_type": "execute_result"
    }
   ],
   "source": [
    "248 % 100 / 5"
   ]
  },
  {
   "cell_type": "code",
   "execution_count": 13,
   "id": "7e90f913",
   "metadata": {},
   "outputs": [
    {
     "data": {
      "text/plain": [
       "15.75"
      ]
     },
     "execution_count": 13,
     "metadata": {},
     "output_type": "execute_result"
    }
   ],
   "source": [
    "6 * 3 - 9 / 4"
   ]
  },
  {
   "cell_type": "code",
   "execution_count": 14,
   "id": "99f8fa38",
   "metadata": {},
   "outputs": [
    {
     "data": {
      "text/plain": [
       "-8"
      ]
     },
     "execution_count": 14,
     "metadata": {},
     "output_type": "execute_result"
    }
   ],
   "source": [
    "(5 - 7) * 4"
   ]
  },
  {
   "cell_type": "code",
   "execution_count": 15,
   "id": "03189090",
   "metadata": {},
   "outputs": [
    {
     "data": {
      "text/plain": [
       "9"
      ]
     },
     "execution_count": 15,
     "metadata": {},
     "output_type": "execute_result"
    }
   ],
   "source": [
    "6 + (18 % (17 - 12))"
   ]
  },
  {
   "cell_type": "code",
   "execution_count": null,
   "id": "3c2862a4",
   "metadata": {},
   "outputs": [],
   "source": []
  }
 ],
 "metadata": {
  "kernelspec": {
   "display_name": "Python 3 (ipykernel)",
   "language": "python",
   "name": "python3"
  },
  "language_info": {
   "codemirror_mode": {
    "name": "ipython",
    "version": 3
   },
   "file_extension": ".py",
   "mimetype": "text/x-python",
   "name": "python",
   "nbconvert_exporter": "python",
   "pygments_lexer": "ipython3",
   "version": "3.10.9"
  }
 },
 "nbformat": 4,
 "nbformat_minor": 5
}
