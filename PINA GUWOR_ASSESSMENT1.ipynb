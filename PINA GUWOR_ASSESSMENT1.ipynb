{
 "cells": [
  {
   "cell_type": "code",
   "execution_count": 1,
   "id": "1e7aa2ee",
   "metadata": {},
   "outputs": [
    {
     "name": "stdout",
     "output_type": "stream",
     "text": [
      "+----+\n",
      "\\ //\n",
      "/ \\\n",
      "\\ //\n",
      "/ \\\n",
      "\\ //\n",
      "/ \\\n",
      "+----+\n"
     ]
    }
   ],
   "source": [
    "# Question 1: Write a program to produce the following output using for loop\n",
    "# +----+\n",
    "# \\ /\n",
    "# / \\\n",
    "# \\ /\n",
    "# / \\\n",
    "# \\ /\n",
    "# / \\\n",
    "# +----+\n",
    "\n",
    "\n",
    "\n",
    "for i in range(5):\n",
    "    if i == 0 or i == 4:\n",
    "        print(\"+----+\")\n",
    "    else:\n",
    "        print(\"\\\\ //\")\n",
    "        print(\"/ \\\\\")\n"
   ]
  },
  {
   "cell_type": "code",
   "execution_count": 2,
   "id": "d146bcba",
   "metadata": {},
   "outputs": [
    {
     "name": "stdout",
     "output_type": "stream",
     "text": [
      "**********\n",
      "**********\n",
      "**********\n",
      "**********\n",
      "**********\n"
     ]
    }
   ],
   "source": [
    "# Question 2: Write a program to produce the following output using for loop\n",
    "# **********\n",
    "# **********\n",
    "# **********\n",
    "# **********\n",
    "# **********\n",
    "\n",
    "for i in range(5):\n",
    "    print(\"**********\")"
   ]
  },
  {
   "cell_type": "code",
   "execution_count": 6,
   "id": "ae02f9f9",
   "metadata": {},
   "outputs": [
    {
     "name": "stdout",
     "output_type": "stream",
     "text": [
      "(1) 2 5 -1 9 5 87 -3\n",
      "(2) 4 8 4 8 6 92 0\n",
      "(3) 6 11 9 7 7 97 3\n",
      "(4) 8 14 14 6 8 102 6\n",
      "(5) 10 17 19 5 9 107 9\n",
      "(6) 12 20 24 4 10 112 12\n"
     ]
    }
   ],
   "source": [
    "# Question 3: Complete the code for the following for loop:\n",
    "# for in range(1,7):\n",
    "# //your code here\n",
    "# so that it prints the following numbers, one per line:\n",
    "# a) 1 b) 2 c) 4 d) 30 e) -7 f) 97 g) -4\n",
    "# 2 4 19 20 -3 94 14\n",
    "# 3 6 34 10 1 91 32\n",
    "# 4 8 49 0 5 88 50\n",
    "# 5 10 64 -10 9 85 68\n",
    "# 6 12 79 -20 13 82 86\n",
    "\n",
    "\n",
    "for i in range(1, 7):\n",
    "    print(f\"({i}) {2 * i} {3 * i + 2} {5 * i - 6} {10 - i} {i + 4} {5 * i + 82} {3 * i - 6}\")"
   ]
  },
  {
   "cell_type": "code",
   "execution_count": 10,
   "id": "5c7d47c3",
   "metadata": {},
   "outputs": [
    {
     "name": "stdout",
     "output_type": "stream",
     "text": [
      "1\n",
      "22\n",
      "333\n",
      "4444\n",
      "55555\n",
      "666666\n",
      "7777777\n"
     ]
    }
   ],
   "source": [
    "# Question 4: Write a program to produce the following output using for loops. Then \n",
    "# use a class constant to make it possible to change the number of lines in \n",
    "# the figure.\n",
    "# 1\n",
    "# 22\n",
    "# 333\n",
    "# 4444\n",
    "# 55555\n",
    "# 666666\n",
    "# 7777777\n",
    "\n",
    "\n",
    "class Figure:\n",
    "    LINES = 7 # Adjust this constant to change the number of lines in the figure #\n",
    "    \n",
    "    def print_figure(self):\n",
    "        for i in range(1, self.LINES + 1):\n",
    "            print(str(i) * i)\n",
    "            \n",
    "   \n",
    "# Create an instance of the Figure class\n",
    "\n",
    "figure_instance = Figure()\n",
    "\n",
    "# Print the figure using the class method\n",
    "figure_instance.print_figure()"
   ]
  },
  {
   "cell_type": "code",
   "execution_count": 2,
   "id": "ae58782c",
   "metadata": {},
   "outputs": [
    {
     "name": "stdout",
     "output_type": "stream",
     "text": [
      "33.0\n",
      "50.0\n"
     ]
    }
   ],
   "source": [
    "#Question 5: Write a method named pay that accepts two parameters: a real number \n",
    "# for a TA's salary, and an integer for the number of hours the TA worked \n",
    "# this week. The method should return how much money to pay the TA. \n",
    "# For example, the call \n",
    "# pay(5.50, 6)\n",
    "# should return \n",
    "# 33.0. \n",
    "# The TA should receive \"overtime\" pay of 1 ½ normal salary for any hours \n",
    "# above 8. For example, the call pay(4.00, 11) should return (4.00 * 8) + (6.00 * 3) or 50.0.#\n",
    "\n",
    "\n",
    "\n",
    "def pay(salary, hours_worked):\n",
    "    normal_hours = 8\n",
    "    overtime_rate = 1.5\n",
    "    \n",
    "    if hours_worked <= normal_hours:\n",
    "        return salary * hours_worked\n",
    "    else:\n",
    "        normal_pay = salary * normal_hours\n",
    "        overtime_pay = salary * overtime_rate * (hours_worked - normal_hours)\n",
    "        return normal_pay + overtime_pay\n",
    "    \n",
    "# Example usage\n",
    "result1 = pay(5.50, 6)\n",
    "print(result1) \n",
    "\n",
    "result2 = pay(4.00, 11)\n",
    "print(result2)                                             "
   ]
  },
  {
   "cell_type": "code",
   "execution_count": 13,
   "id": "0bb758c9",
   "metadata": {},
   "outputs": [
    {
     "name": "stdout",
     "output_type": "stream",
     "text": [
      "12.566370614359172\n"
     ]
    }
   ],
   "source": [
    "# Question 6: Consider the following method for converting milliseconds into days:\n",
    "# // converts milliseconds to days\n",
    "# def toDays(millis):\n",
    "# return millis / 1000.0 / 60.0 / 60.0 / 24.0\n",
    "# Write a similar method named area that takes as a parameter the radius of \n",
    "# a circle and that returns the area of the circle. For example, the call \n",
    "# area(2.0);\n",
    "# should return \n",
    "# 12.566370614359172. \n",
    "# Recall that area can be computed as π times the radius squared and that \n",
    "# Python has a constant called math.pi\n",
    "\n",
    "\n",
    "import math\n",
    "\n",
    "# Calculate the area of circle\n",
    "def area(radius):\n",
    "    return math.pi * radius**2\n",
    "\n",
    "# Example \n",
    "result = area(2.0)\n",
    "print(result)"
   ]
  },
  {
   "cell_type": "code",
   "execution_count": 8,
   "id": "4cf27c0a",
   "metadata": {},
   "outputs": [
    {
     "name": "stdout",
     "output_type": "stream",
     "text": [
      "sum =  500500\n",
      "low? 1\n",
      "high? 1001\n",
      "sum =  500500\n"
     ]
    }
   ],
   "source": [
    "# Question 7: Copy and paste the following code into pythons IDLE script environment.\n",
    " # low = 1\n",
    " # high = 1001\n",
    " # sum = 0\n",
    " # for i in range(low,high):\n",
    " # sum += i\n",
    " \n",
    " # print(\"sum = \" , sum)\n",
    " \n",
    "# Modify the code to use a input to prompt the user for the values of low\n",
    "# and high. Below is a sample execution in which the user asks for the same \n",
    "# values as in the original program (1 through 1000):\n",
    "# low? 1\n",
    "# high? 1001\n",
    "# sum = 500500\n",
    "# Below is an execution with different values for low and high:\n",
    "# low? 300\n",
    "# high? 5298\n",
    "# sum = 13986903\n",
    "# You should exactly reproduce this format.\n",
    "\n",
    "\n",
    "\n",
    "low = 1\n",
    "high = 1001\n",
    "sum = 0\n",
    "for i in range(low,high):\n",
    "    sum += i\n",
    "print (\"sum = \", sum)\n",
    "\n",
    "\n",
    "low = int(input(\"low? \"))\n",
    "high = int(input(\"high? \"))\n",
    "sum_result = 0\n",
    "\n",
    "for i in range(low,high):\n",
    "    sum_result += i\n",
    "    \n",
    "print (\"sum = \", sum_result)"
   ]
  },
  {
   "cell_type": "code",
   "execution_count": 31,
   "id": "b9ae5d57",
   "metadata": {},
   "outputs": [
    {
     "name": "stdout",
     "output_type": "stream",
     "text": [
      "insert a number (or 0 to exit): 0\n",
      "Sum of inserted numbers: 0.0\n"
     ]
    }
   ],
   "source": [
    "# Question 8: Write a program using while loop that prompts the user for numbers until \n",
    "# the user types 0, then outputs their sum.\n",
    "\n",
    "# Initialize sum and user_input\n",
    "sum_result = 0\n",
    "user_input = 1\n",
    "\n",
    "# Keep prompting until user is 0\n",
    "while user_input != -0:\n",
    "    user_input = float(input(\"insert a number (or 0 to exit): \"))\n",
    "    sum_result += user_input\n",
    "    \n",
    "# Display the sum\n",
    "print(\"Sum of inserted numbers:\", sum_result)"
   ]
  },
  {
   "cell_type": "code",
   "execution_count": 30,
   "id": "91430a4b",
   "metadata": {},
   "outputs": [
    {
     "name": "stdout",
     "output_type": "stream",
     "text": [
      "insert a number (or -1 to exit): -1\n",
      "Sum of inserted numbers: -1\n"
     ]
    }
   ],
   "source": [
    "# Question 9: Write a program using while loop that prompts the user for numbers until \n",
    "# the user types -1, then outputs their sum\n",
    "\n",
    "\n",
    "# Initialize sum and user_input\n",
    "sum_result = 0\n",
    "user_input = 0\n",
    "\n",
    "# Keep prompting until user is -1\n",
    "while user_input != -1:\n",
    "    user_input = int(input(\"insert a number (or -1 to exit): \"))\n",
    "    sum_result += user_input\n",
    "    \n",
    "# Display the sum\n",
    "print(\"Sum of inserted numbers:\", sum_result)"
   ]
  },
  {
   "cell_type": "code",
   "execution_count": 7,
   "id": "b954b799",
   "metadata": {},
   "outputs": [
    {
     "name": "stdout",
     "output_type": "stream",
     "text": [
      "hellohellohello\n",
      "\n"
     ]
    }
   ],
   "source": [
    "# Question 10: Write a method named repl that accepts a String and a number of \n",
    "# repetitions as parameters and returns the String concatenated that many \n",
    "# times. For example, the call repl(\"hello\", 3) returns \"hellohellohello\". \n",
    "# If the number of repetitions is 0 or less, an empty string is returned.\n",
    "\n",
    "\n",
    "def repl(input_string, repetitions):\n",
    "    if repetitions <= 0:\n",
    "        return \"\"\n",
    "    else:\n",
    "        return input_string * repetitions\n",
    "    \n",
    "# Example\n",
    "result = repl(\"hello\", 3)\n",
    "print(result)\n",
    "\n",
    "result_zero_reps = repl(\"example\", 0)\n",
    "print(result_zero_reps)"
   ]
  },
  {
   "cell_type": "code",
   "execution_count": 32,
   "id": "f6bb4417",
   "metadata": {},
   "outputs": [
    {
     "ename": "SyntaxError",
     "evalue": "invalid syntax (1979296458.py, line 20)",
     "output_type": "error",
     "traceback": [
      "\u001b[1;36m  Cell \u001b[1;32mIn[32], line 20\u001b[1;36m\u001b[0m\n\u001b[1;33m    elif start > end:\u001b[0m\n\u001b[1;37m    ^\u001b[0m\n\u001b[1;31mSyntaxError\u001b[0m\u001b[1;31m:\u001b[0m invalid syntax\n"
     ]
    }
   ],
   "source": [
    "# Question 11: Write a method called printRange that accepts two integers as arguments and \n",
    "# prints the sequence of numbers between the two arguments, separated by \n",
    "# spaces. Print an increasing sequence if the first argument is smaller than \n",
    "# the second; otherwise, print a decreasing sequence. If the two numbers \n",
    "# are the same, that number should be printed by itself. Here are some \n",
    "# sample calls to printRange: \n",
    "# printRange(2, 7)\n",
    "# printRange(19, 11)\n",
    "# printRange(5, 5)\n",
    "# The output produced should be the following: \n",
    "# 2 3 4 5 6 7 \n",
    "# 19 18 17 16 15 14 13 12 11 \n",
    "# 5\n",
    "\n",
    "\n",
    "def printRange(start, end):\n",
    "    if start < end:\n",
    "        for i in range(start, end + 1):\n",
    "            print(i, end=\" \")\n",
    "            elif start > end:\n",
    "                for i in range(start, end - 1, -1):\n",
    "                    print(i, end=\" \")\n",
    "                    \n",
    "            else:\n",
    "                print(start)\n",
    "                \n",
    "# Example\n",
    "printRange(2, 7)\n",
    "\n",
    "printRange(9, 11)\n",
    "\n",
    "printRange(5, 5)"
   ]
  },
  {
   "cell_type": "code",
   "execution_count": 12,
   "id": "7f80aefa",
   "metadata": {},
   "outputs": [
    {
     "name": "stdout",
     "output_type": "stream",
     "text": [
      "How many numbers do you want to enter? 5\n",
      "Number 1: 5\n",
      "Number 2: 11\n",
      "Number 3: -2\n",
      "Number 4: 3\n",
      "Number 5: 2\n",
      "Smallest = -2.0\n",
      "Largest = 11.0\n"
     ]
    }
   ],
   "source": [
    "# Question 12: Write a method named smallestLargest that asks the user to enter numbers, \n",
    "# then prints the smallest and largest of all the numbers typed in by the \n",
    "# user. You may assume the user enters a valid number greater than 0 for \n",
    "# the number of numbers to read. Here is an example dialogue: \n",
    "# How many numbers do you want to enter? 4\n",
    "# Number 1: 5\n",
    "# Number 2: 11\n",
    "# Number 3: -2\n",
    "# Number 4: 3\n",
    "# Smallest = -2\n",
    "# Largest = 11\n",
    "\n",
    "\n",
    "def smallestLargest():\n",
    "    count = int(input(\"How many numbers do you want to enter? \"))\n",
    "    \n",
    "    if count > 0:\n",
    "        num = float(input(\"Number 1: \"))\n",
    "        smallest = largest = num\n",
    "        \n",
    "        for i in range(2, count + 1):\n",
    "            num = float(input(f\"Number {i}: \"))\n",
    "            smallest = min(smallest, num)\n",
    "            largest = max(largest, num)\n",
    "            \n",
    "        print(\"Smallest =\", smallest)\n",
    "        print(\"Largest =\", largest)\n",
    "        \n",
    "    else:\n",
    "        print(\"Enter a valid number greater than 0 for the count.\")\n",
    "        \n",
    "# Example\n",
    "smallestLargest()"
   ]
  },
  {
   "cell_type": "code",
   "execution_count": 25,
   "id": "943aaf91",
   "metadata": {},
   "outputs": [
    {
     "name": "stdout",
     "output_type": "stream",
     "text": [
      "Enter a number: 7\n",
      "Enter a number: 4\n",
      "Enter a number: 16\n",
      "Enter a number: -4\n",
      "Average was 9.0\n"
     ]
    }
   ],
   "source": [
    "# Question 13: Write a method called printAverage that uses a sentinel loop to \n",
    "# repeatedly prompt the user for numbers. Once the user types any number \n",
    "# less than zero, the method should display the average of all nonnegative \n",
    "# numbers typed. Display the average as a double. Here is a sample \n",
    "# dialogue with the user:\n",
    "# Type a number: 7\n",
    "# Type a number: 4\n",
    "# Type a number: 16\n",
    "# Type a number: –4\n",
    "# Average was 9.0\n",
    "# If the first number that the user types is negative, do not print an average:\n",
    "# Type a number: –2\n",
    "    \n",
    "    \n",
    "def printAverage():\n",
    "        total = 0\n",
    "        count = 0\n",
    "        \n",
    "        while True:\n",
    "            num = float(input(\"Enter a number: \"))\n",
    "            \n",
    "            if num < 0:\n",
    "                if count > 0:\n",
    "                    average = total / count\n",
    "                    print(\"Average was\", average)\n",
    "                else:\n",
    "                    print(\"No nonnegative numbers inputed.\")\n",
    "                break\n",
    "            else:\n",
    "                total += num\n",
    "                count += 1\n",
    "                    \n",
    "# Example\n",
    "printAverage()"
   ]
  },
  {
   "cell_type": "code",
   "execution_count": 26,
   "id": "7c29819c",
   "metadata": {},
   "outputs": [
    {
     "name": "stdout",
     "output_type": "stream",
     "text": [
      "3\n",
      "2\n"
     ]
    }
   ],
   "source": [
    "# Question 14: Write a method named numUnique that takes three integers as parameters \n",
    "# and returns the number of unique integers among the three. For example, \n",
    "# the call numUnique(18, 3, 4) should return 3 because the parameters \n",
    "# have three different values. By contrast, the call numUnique(6, 7, 6)\n",
    "# should return 2 because there are only two unique numbers among the \n",
    "# three parameters: 6 and 7.\n",
    "\n",
    "\n",
    "def numUnique(a, b, c):\n",
    "    unique_numbers = {a, b, c}\n",
    "    return len(unique_numbers)\n",
    "\n",
    "# Example\n",
    "result1 = numUnique(18, 3, 4)\n",
    "print(result1)\n",
    "\n",
    "result2 = numUnique(6, 7, 6)\n",
    "print(result2)"
   ]
  },
  {
   "cell_type": "code",
   "execution_count": 27,
   "id": "fc29b030",
   "metadata": {},
   "outputs": [
    {
     "name": "stdout",
     "output_type": "stream",
     "text": [
      "2 + 6 = 8\n",
      "1 + 5 = 6\n",
      "5 + 5 = 10\n",
      "1 + 4 = 5\n",
      "3 + 6 = 9\n",
      "4 + 4 = 8\n",
      "3 + 3 = 6\n",
      "1 + 4 = 5\n",
      "2 + 3 = 5\n",
      "6 + 4 = 10\n",
      "1 + 6 = 7\n",
      "You won after 11 tries!\n"
     ]
    }
   ],
   "source": [
    "# Question 15: A Random object generates pseudo-random numbers. Find out how to \n",
    "# use the Random class and write a program that simulates rolling of two 6-\n",
    "# sided dice until their combined result comes up as 7. One possible output \n",
    "# can be seen as below:\n",
    "# 2 + 4 = 6\n",
    "# 3 + 5 = 8\n",
    "# 5 + 6 = 11\n",
    "# 1 + 1 = 2\n",
    "# 4 + 3 = 7\n",
    "# You won after 5 tries!\n",
    "\n",
    "import random\n",
    "\n",
    "def simulate_dice_rolls():\n",
    "    tries = 0\n",
    "    \n",
    "    while True:\n",
    "        dice1 = random.randint(1, 6)\n",
    "        dice2 = random.randint(1, 6)\n",
    "        total = dice1 + dice2\n",
    "        \n",
    "        print(f\"{dice1} + {dice2} = {total}\")\n",
    "        \n",
    "        tries += 1\n",
    "        \n",
    "        if total ==7:\n",
    "            print(f\"You won after {tries} tries!\")\n",
    "            break\n",
    "            \n",
    "# Example\n",
    "simulate_dice_rolls()"
   ]
  },
  {
   "cell_type": "code",
   "execution_count": null,
   "id": "e0f996fd",
   "metadata": {},
   "outputs": [],
   "source": []
  }
 ],
 "metadata": {
  "kernelspec": {
   "display_name": "Python 3 (ipykernel)",
   "language": "python",
   "name": "python3"
  },
  "language_info": {
   "codemirror_mode": {
    "name": "ipython",
    "version": 3
   },
   "file_extension": ".py",
   "mimetype": "text/x-python",
   "name": "python",
   "nbconvert_exporter": "python",
   "pygments_lexer": "ipython3",
   "version": "3.10.9"
  }
 },
 "nbformat": 4,
 "nbformat_minor": 5
}
