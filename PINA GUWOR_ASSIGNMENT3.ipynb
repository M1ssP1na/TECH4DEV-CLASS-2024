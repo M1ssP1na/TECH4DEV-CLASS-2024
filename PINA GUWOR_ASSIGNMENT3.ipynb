{
 "cells": [
  {
   "cell_type": "code",
   "execution_count": 1,
   "id": "07ca753d",
   "metadata": {},
   "outputs": [
    {
     "name": "stdout",
     "output_type": "stream",
     "text": [
      "The maximum value in the list is: 23\n"
     ]
    }
   ],
   "source": [
    "# Question 1: Write a program that finds the maximum value of the given list, assuming that the list\n",
    "# contains at least one element.\n",
    "# Try your program with the following array\n",
    "# 2 4 7 4 23 5 1 4 8 9\n",
    "\n",
    "# Given list\n",
    "numbers = [2, 4, 7, 4, 23, 5, 1, 4, 8, 9]\n",
    "\n",
    "# Find the maximum value\n",
    "max_value = max(numbers)\n",
    "\n",
    "# Print the result\n",
    "print(\"The maximum value in the list is:\", max_value)"
   ]
  },
  {
   "cell_type": "code",
   "execution_count": 3,
   "id": "43b87dfa",
   "metadata": {},
   "outputs": [
    {
     "name": "stdout",
     "output_type": "stream",
     "text": [
      "The average value of the list is: 24.6\n"
     ]
    }
   ],
   "source": [
    "# Question 2: Write a program that calculates the average value of the given list.\n",
    "# Try your program with the following list\n",
    "# 4 7 1 5 11 53 12 46 84 23\n",
    "\n",
    "# Given list\n",
    "numbers = [4, 7, 1, 5, 11, 53, 12, 46, 84, 23]\n",
    "\n",
    "# Calculate the average value\n",
    "average_value = sum(numbers) / len(numbers)\n",
    "\n",
    "# Print the result\n",
    "print(\"The average value of the list is:\", average_value)"
   ]
  },
  {
   "cell_type": "code",
   "execution_count": 4,
   "id": "1e8f6f5f",
   "metadata": {},
   "outputs": [
    {
     "name": "stdout",
     "output_type": "stream",
     "text": [
      "Original list: [2, 6, 7, 45, 23, 53, 14, 45, 89, 5]\n",
      "List in reverse order: [5, 89, 45, 14, 53, 23, 45, 7, 6, 2]\n"
     ]
    }
   ],
   "source": [
    "# Question 3: Write a program that prints the given list of integers in reverse order.\n",
    "# Try your program with the following list\n",
    "# 2 6 7 45 23 53 14 45 89 5\n",
    "\n",
    "# Given list\n",
    "numbers = [2, 6, 7, 45, 23, 53, 14, 45, 89, 5]\n",
    "\n",
    "# Print the list in reverse order\n",
    "reversed_numbers = numbers[::-1]\n",
    "print(\"Original list:\", numbers)\n",
    "print(\"List in reverse order:\", reversed_numbers)"
   ]
  },
  {
   "cell_type": "code",
   "execution_count": 8,
   "id": "4fc91c11",
   "metadata": {},
   "outputs": [
    {
     "name": "stdout",
     "output_type": "stream",
     "text": [
      "Enter the first list of integers (separated by spaces): 9 8\n",
      "Enter the second list of integers (separated by spaces): 9 2 5\n",
      "Result: False\n"
     ]
    }
   ],
   "source": [
    "# Question 4: Write a program that accepts two lists of integers and prints true if each element in the first \n",
    "# list is less than the element at the same index in the second list. Your program should print \n",
    "# false if the lists are not the same length.\n",
    "\n",
    "# Function to check if each element in the first list is less than the corresponding element in the second list\n",
    "def check_lists(list1, list2):\n",
    "    \n",
    "    # Check if the lists are of the same length\n",
    "    if len(list1) != len(list2):\n",
    "        return False\n",
    "\n",
    "    # Compare elements at each index\n",
    "    for i in range(len(list1)):\n",
    "        if list1[i] >= list2[i]:\n",
    "            return False\n",
    "\n",
    "    return True\n",
    "\n",
    "# Accept two lists from the user\n",
    "list1 = list(map(int, input(\"Enter the first list of integers (separated by spaces): \").split()))\n",
    "list2 = list(map(int, input(\"Enter the second list of integers (separated by spaces): \").split()))\n",
    "\n",
    "# Check and print the result\n",
    "result = check_lists(list1, list2)\n",
    "print(\"Result:\", result)"
   ]
  },
  {
   "cell_type": "code",
   "execution_count": 11,
   "id": "38ce0548",
   "metadata": {},
   "outputs": [
    {
     "ename": "KeyboardInterrupt",
     "evalue": "Interrupted by user",
     "output_type": "error",
     "traceback": [
      "\u001b[1;31m---------------------------------------------------------------------------\u001b[0m",
      "\u001b[1;31mKeyboardInterrupt\u001b[0m                         Traceback (most recent call last)",
      "Cell \u001b[1;32mIn[11], line 15\u001b[0m\n\u001b[0;32m     12\u001b[0m         \u001b[38;5;28;01mreturn\u001b[39;00m \u001b[38;5;28;01mFalse\u001b[39;00m\n\u001b[0;32m     14\u001b[0m \u001b[38;5;66;03m# Accept a list from the user\u001b[39;00m\n\u001b[1;32m---> 15\u001b[0m numbers \u001b[38;5;241m=\u001b[39m \u001b[38;5;28mlist\u001b[39m(\u001b[38;5;28mmap\u001b[39m(\u001b[38;5;28mint\u001b[39m, \u001b[38;5;28;43minput\u001b[39;49m\u001b[43m(\u001b[49m\u001b[38;5;124;43m\"\u001b[39;49m\u001b[38;5;124;43mEnter a list of integers (separated by spaces): \u001b[39;49m\u001b[38;5;124;43m\"\u001b[39;49m\u001b[43m)\u001b[49m\u001b[38;5;241m.\u001b[39msplit()))\n\u001b[0;32m     17\u001b[0m \u001b[38;5;66;03m# Accept two indexes from the user\u001b[39;00m\n\u001b[0;32m     18\u001b[0m index1 \u001b[38;5;241m=\u001b[39m \u001b[38;5;28mint\u001b[39m(\u001b[38;5;28minput\u001b[39m(\u001b[38;5;124m\"\u001b[39m\u001b[38;5;124mEnter the first index: \u001b[39m\u001b[38;5;124m\"\u001b[39m))\n",
      "File \u001b[1;32m~\\anaconda3\\lib\\site-packages\\ipykernel\\kernelbase.py:1175\u001b[0m, in \u001b[0;36mKernel.raw_input\u001b[1;34m(self, prompt)\u001b[0m\n\u001b[0;32m   1171\u001b[0m \u001b[38;5;28;01mif\u001b[39;00m \u001b[38;5;129;01mnot\u001b[39;00m \u001b[38;5;28mself\u001b[39m\u001b[38;5;241m.\u001b[39m_allow_stdin:\n\u001b[0;32m   1172\u001b[0m     \u001b[38;5;28;01mraise\u001b[39;00m StdinNotImplementedError(\n\u001b[0;32m   1173\u001b[0m         \u001b[38;5;124m\"\u001b[39m\u001b[38;5;124mraw_input was called, but this frontend does not support input requests.\u001b[39m\u001b[38;5;124m\"\u001b[39m\n\u001b[0;32m   1174\u001b[0m     )\n\u001b[1;32m-> 1175\u001b[0m \u001b[38;5;28;01mreturn\u001b[39;00m \u001b[38;5;28;43mself\u001b[39;49m\u001b[38;5;241;43m.\u001b[39;49m\u001b[43m_input_request\u001b[49m\u001b[43m(\u001b[49m\n\u001b[0;32m   1176\u001b[0m \u001b[43m    \u001b[49m\u001b[38;5;28;43mstr\u001b[39;49m\u001b[43m(\u001b[49m\u001b[43mprompt\u001b[49m\u001b[43m)\u001b[49m\u001b[43m,\u001b[49m\n\u001b[0;32m   1177\u001b[0m \u001b[43m    \u001b[49m\u001b[38;5;28;43mself\u001b[39;49m\u001b[38;5;241;43m.\u001b[39;49m\u001b[43m_parent_ident\u001b[49m\u001b[43m[\u001b[49m\u001b[38;5;124;43m\"\u001b[39;49m\u001b[38;5;124;43mshell\u001b[39;49m\u001b[38;5;124;43m\"\u001b[39;49m\u001b[43m]\u001b[49m\u001b[43m,\u001b[49m\n\u001b[0;32m   1178\u001b[0m \u001b[43m    \u001b[49m\u001b[38;5;28;43mself\u001b[39;49m\u001b[38;5;241;43m.\u001b[39;49m\u001b[43mget_parent\u001b[49m\u001b[43m(\u001b[49m\u001b[38;5;124;43m\"\u001b[39;49m\u001b[38;5;124;43mshell\u001b[39;49m\u001b[38;5;124;43m\"\u001b[39;49m\u001b[43m)\u001b[49m\u001b[43m,\u001b[49m\n\u001b[0;32m   1179\u001b[0m \u001b[43m    \u001b[49m\u001b[43mpassword\u001b[49m\u001b[38;5;241;43m=\u001b[39;49m\u001b[38;5;28;43;01mFalse\u001b[39;49;00m\u001b[43m,\u001b[49m\n\u001b[0;32m   1180\u001b[0m \u001b[43m\u001b[49m\u001b[43m)\u001b[49m\n",
      "File \u001b[1;32m~\\anaconda3\\lib\\site-packages\\ipykernel\\kernelbase.py:1217\u001b[0m, in \u001b[0;36mKernel._input_request\u001b[1;34m(self, prompt, ident, parent, password)\u001b[0m\n\u001b[0;32m   1214\u001b[0m             \u001b[38;5;28;01mbreak\u001b[39;00m\n\u001b[0;32m   1215\u001b[0m \u001b[38;5;28;01mexcept\u001b[39;00m \u001b[38;5;167;01mKeyboardInterrupt\u001b[39;00m:\n\u001b[0;32m   1216\u001b[0m     \u001b[38;5;66;03m# re-raise KeyboardInterrupt, to truncate traceback\u001b[39;00m\n\u001b[1;32m-> 1217\u001b[0m     \u001b[38;5;28;01mraise\u001b[39;00m \u001b[38;5;167;01mKeyboardInterrupt\u001b[39;00m(\u001b[38;5;124m\"\u001b[39m\u001b[38;5;124mInterrupted by user\u001b[39m\u001b[38;5;124m\"\u001b[39m) \u001b[38;5;28;01mfrom\u001b[39;00m \u001b[38;5;28mNone\u001b[39m\n\u001b[0;32m   1218\u001b[0m \u001b[38;5;28;01mexcept\u001b[39;00m \u001b[38;5;167;01mException\u001b[39;00m:\n\u001b[0;32m   1219\u001b[0m     \u001b[38;5;28mself\u001b[39m\u001b[38;5;241m.\u001b[39mlog\u001b[38;5;241m.\u001b[39mwarning(\u001b[38;5;124m\"\u001b[39m\u001b[38;5;124mInvalid Message:\u001b[39m\u001b[38;5;124m\"\u001b[39m, exc_info\u001b[38;5;241m=\u001b[39m\u001b[38;5;28;01mTrue\u001b[39;00m)\n",
      "\u001b[1;31mKeyboardInterrupt\u001b[0m: Interrupted by user"
     ]
    }
   ],
   "source": [
    "# Question 5: Write a program that accepts a list of integers and two indexes and swaps the elements at \n",
    "# those indexes\n",
    "\n",
    "# Function to swap elements at two given indexes in a list\n",
    "def swap_elements(lst, index1, index2):\n",
    "    # Check if the indexes are within the valid range\n",
    "    if 0 <= index1 < len(lst) and 0 <= index2 < len(lst):\n",
    "        # Swap the elements at the given indexes\n",
    "        lst[index1], lst[index2] = lst[index2], lst[index1]\n",
    "        return True\n",
    "    else:\n",
    "        return False\n",
    "\n",
    "# Accept a list from the user\n",
    "numbers = list(map(int, input(\"Enter a list of integers (separated by spaces): \").split()))\n",
    "\n",
    "# Accept two indexes from the user\n",
    "index1 = int(input(\"Enter the first index: \"))\n",
    "index2 = int(input(\"Enter the second index: \"))\n",
    "\n",
    "# Call the function to swap elements at the given indexes\n",
    "success = swap_elements(numbers, index1, index2)\n",
    "\n",
    "# Print the result\n",
    "if success:\n",
    "    print(\"List after swapping elements:\", numbers)\n",
    "else:\n",
    "    print(\"Invalid indexes. Swapping failed.\")"
   ]
  },
  {
   "cell_type": "code",
   "execution_count": 12,
   "id": "bd0edbee",
   "metadata": {},
   "outputs": [
    {
     "ename": "KeyboardInterrupt",
     "evalue": "Interrupted by user",
     "output_type": "error",
     "traceback": [
      "\u001b[1;31m---------------------------------------------------------------------------\u001b[0m",
      "\u001b[1;31mKeyboardInterrupt\u001b[0m                         Traceback (most recent call last)",
      "Cell \u001b[1;32mIn[12], line 11\u001b[0m\n\u001b[0;32m      8\u001b[0m     \u001b[38;5;28;01mreturn\u001b[39;00m concatenated_list\n\u001b[0;32m     10\u001b[0m \u001b[38;5;66;03m# Accept two lists from the user\u001b[39;00m\n\u001b[1;32m---> 11\u001b[0m list1 \u001b[38;5;241m=\u001b[39m \u001b[38;5;28mlist\u001b[39m(\u001b[38;5;28mmap\u001b[39m(\u001b[38;5;28mint\u001b[39m, \u001b[38;5;28;43minput\u001b[39;49m\u001b[43m(\u001b[49m\u001b[38;5;124;43m\"\u001b[39;49m\u001b[38;5;124;43mEnter the first list of integers (separated by spaces): \u001b[39;49m\u001b[38;5;124;43m\"\u001b[39;49m\u001b[43m)\u001b[49m\u001b[38;5;241m.\u001b[39msplit()))\n\u001b[0;32m     12\u001b[0m list2 \u001b[38;5;241m=\u001b[39m \u001b[38;5;28mlist\u001b[39m(\u001b[38;5;28mmap\u001b[39m(\u001b[38;5;28mint\u001b[39m, \u001b[38;5;28minput\u001b[39m(\u001b[38;5;124m\"\u001b[39m\u001b[38;5;124mEnter the second list of integers (separated by spaces): \u001b[39m\u001b[38;5;124m\"\u001b[39m)\u001b[38;5;241m.\u001b[39msplit()))\n\u001b[0;32m     14\u001b[0m \u001b[38;5;66;03m# Call the function to concatenate the two lists\u001b[39;00m\n",
      "File \u001b[1;32m~\\anaconda3\\lib\\site-packages\\ipykernel\\kernelbase.py:1175\u001b[0m, in \u001b[0;36mKernel.raw_input\u001b[1;34m(self, prompt)\u001b[0m\n\u001b[0;32m   1171\u001b[0m \u001b[38;5;28;01mif\u001b[39;00m \u001b[38;5;129;01mnot\u001b[39;00m \u001b[38;5;28mself\u001b[39m\u001b[38;5;241m.\u001b[39m_allow_stdin:\n\u001b[0;32m   1172\u001b[0m     \u001b[38;5;28;01mraise\u001b[39;00m StdinNotImplementedError(\n\u001b[0;32m   1173\u001b[0m         \u001b[38;5;124m\"\u001b[39m\u001b[38;5;124mraw_input was called, but this frontend does not support input requests.\u001b[39m\u001b[38;5;124m\"\u001b[39m\n\u001b[0;32m   1174\u001b[0m     )\n\u001b[1;32m-> 1175\u001b[0m \u001b[38;5;28;01mreturn\u001b[39;00m \u001b[38;5;28;43mself\u001b[39;49m\u001b[38;5;241;43m.\u001b[39;49m\u001b[43m_input_request\u001b[49m\u001b[43m(\u001b[49m\n\u001b[0;32m   1176\u001b[0m \u001b[43m    \u001b[49m\u001b[38;5;28;43mstr\u001b[39;49m\u001b[43m(\u001b[49m\u001b[43mprompt\u001b[49m\u001b[43m)\u001b[49m\u001b[43m,\u001b[49m\n\u001b[0;32m   1177\u001b[0m \u001b[43m    \u001b[49m\u001b[38;5;28;43mself\u001b[39;49m\u001b[38;5;241;43m.\u001b[39;49m\u001b[43m_parent_ident\u001b[49m\u001b[43m[\u001b[49m\u001b[38;5;124;43m\"\u001b[39;49m\u001b[38;5;124;43mshell\u001b[39;49m\u001b[38;5;124;43m\"\u001b[39;49m\u001b[43m]\u001b[49m\u001b[43m,\u001b[49m\n\u001b[0;32m   1178\u001b[0m \u001b[43m    \u001b[49m\u001b[38;5;28;43mself\u001b[39;49m\u001b[38;5;241;43m.\u001b[39;49m\u001b[43mget_parent\u001b[49m\u001b[43m(\u001b[49m\u001b[38;5;124;43m\"\u001b[39;49m\u001b[38;5;124;43mshell\u001b[39;49m\u001b[38;5;124;43m\"\u001b[39;49m\u001b[43m)\u001b[49m\u001b[43m,\u001b[49m\n\u001b[0;32m   1179\u001b[0m \u001b[43m    \u001b[49m\u001b[43mpassword\u001b[49m\u001b[38;5;241;43m=\u001b[39;49m\u001b[38;5;28;43;01mFalse\u001b[39;49;00m\u001b[43m,\u001b[49m\n\u001b[0;32m   1180\u001b[0m \u001b[43m\u001b[49m\u001b[43m)\u001b[49m\n",
      "File \u001b[1;32m~\\anaconda3\\lib\\site-packages\\ipykernel\\kernelbase.py:1217\u001b[0m, in \u001b[0;36mKernel._input_request\u001b[1;34m(self, prompt, ident, parent, password)\u001b[0m\n\u001b[0;32m   1214\u001b[0m             \u001b[38;5;28;01mbreak\u001b[39;00m\n\u001b[0;32m   1215\u001b[0m \u001b[38;5;28;01mexcept\u001b[39;00m \u001b[38;5;167;01mKeyboardInterrupt\u001b[39;00m:\n\u001b[0;32m   1216\u001b[0m     \u001b[38;5;66;03m# re-raise KeyboardInterrupt, to truncate traceback\u001b[39;00m\n\u001b[1;32m-> 1217\u001b[0m     \u001b[38;5;28;01mraise\u001b[39;00m \u001b[38;5;167;01mKeyboardInterrupt\u001b[39;00m(\u001b[38;5;124m\"\u001b[39m\u001b[38;5;124mInterrupted by user\u001b[39m\u001b[38;5;124m\"\u001b[39m) \u001b[38;5;28;01mfrom\u001b[39;00m \u001b[38;5;28mNone\u001b[39m\n\u001b[0;32m   1218\u001b[0m \u001b[38;5;28;01mexcept\u001b[39;00m \u001b[38;5;167;01mException\u001b[39;00m:\n\u001b[0;32m   1219\u001b[0m     \u001b[38;5;28mself\u001b[39m\u001b[38;5;241m.\u001b[39mlog\u001b[38;5;241m.\u001b[39mwarning(\u001b[38;5;124m\"\u001b[39m\u001b[38;5;124mInvalid Message:\u001b[39m\u001b[38;5;124m\"\u001b[39m, exc_info\u001b[38;5;241m=\u001b[39m\u001b[38;5;28;01mTrue\u001b[39;00m)\n",
      "\u001b[1;31mKeyboardInterrupt\u001b[0m: Interrupted by user"
     ]
    }
   ],
   "source": [
    "# Question 6: Write a program that accepts two lists of integers and prints a new list containing all \n",
    "# elements of the first list followed by all elements of the second.\n",
    "\n",
    "# Concatenate two lists\n",
    "def concatenate_lists(list1, list2):\n",
    "    # Use the '+' operator to concatenate the two lists\n",
    "    concatenated_list = list1 + list2\n",
    "    return concatenated_list\n",
    "\n",
    "# Accept two lists from the user\n",
    "list1 = list(map(int, input(\"Enter the first list of integers (separated by spaces): \").split()))\n",
    "list2 = list(map(int, input(\"Enter the second list of integers (separated by spaces): \").split()))\n",
    "\n",
    "# Call the function to concatenate the two lists\n",
    "result_list = concatenate_lists(list1, list2)\n",
    "\n",
    "# Print the result\n",
    "print(\"Concatenated List:\", result_list)"
   ]
  },
  {
   "cell_type": "code",
   "execution_count": 13,
   "id": "1a2368be",
   "metadata": {},
   "outputs": [
    {
     "name": "stdout",
     "output_type": "stream",
     "text": [
      "Enter a list of integers (separated by spaces): 5 0 0 0\n",
      "Enter the integer value to find: 2\n",
      "Last index of 2 is: -1\n"
     ]
    }
   ],
   "source": [
    "# Question 7: Write a program that accepts a list of integers and an integer value as its parameters and \n",
    "# prints the last index at which the value occurs in the list. The program should print –1 if the \n",
    "# value is not found. For example, in the list [74, 85, 102, 99, 101, 85, 56], the last index of the value 85 is 5.\n",
    "\n",
    "# Function to find the last index of a value in a list\n",
    "def find_last_index(lst, value):\n",
    "    # Check if the value is present in the list\n",
    "    if value in lst:\n",
    "        # Use the reverse() method to find the last occurrence of the value\n",
    "        last_index = len(lst) - lst[::-1].index(value) - 1\n",
    "        return last_index\n",
    "    else:\n",
    "        return -1\n",
    "\n",
    "# Accept a list from the user\n",
    "numbers = list(map(int, input(\"Enter a list of integers (separated by spaces): \").split()))\n",
    "\n",
    "# Accept an integer value from the user\n",
    "value_to_find = int(input(\"Enter the integer value to find: \"))\n",
    "\n",
    "# Call the function to find the last index of the value\n",
    "last_index = find_last_index(numbers, value_to_find)\n",
    "\n",
    "# Print the result\n",
    "print(\"Last index of\", value_to_find, \"is:\", last_index)"
   ]
  },
  {
   "cell_type": "code",
   "execution_count": 14,
   "id": "08848c44",
   "metadata": {},
   "outputs": [
    {
     "name": "stdout",
     "output_type": "stream",
     "text": [
      "Enter a list of integers (separated by spaces): 22 33 44\n",
      "The range of values in the list is: 23\n"
     ]
    }
   ],
   "source": [
    "# Question 8: Write a program that prints the range of values in a list of integers. The range is defined as 1 \n",
    "# more than the difference between the maximum and minimum values in the list. For \n",
    "# example, if a list contains the values [36, 12, 25, 19, 46, 31, 22], the program should return \n",
    "# 35. You may assume that the list has at least one element.\n",
    "\n",
    "# Function to calculate the range of values in a list\n",
    "def calculate_range(lst):\n",
    "    # Calculate the range as 1 more than the difference between the maximum and minimum values\n",
    "    value_range = max(lst) - min(lst) + 1\n",
    "    return value_range\n",
    "\n",
    "# Accept a list from the user\n",
    "numbers = list(map(int, input(\"Enter a list of integers (separated by spaces): \").split()))\n",
    "\n",
    "# Call the function to calculate the range\n",
    "result_range = calculate_range(numbers)\n",
    "\n",
    "# Print the result\n",
    "print(\"The range of values in the list is:\", result_range)"
   ]
  },
  {
   "cell_type": "code",
   "execution_count": null,
   "id": "d1bbf885",
   "metadata": {},
   "outputs": [],
   "source": [
    "# Question 9: Write a program that accepts a list of integers, a minimum value, and a maximum value and \n",
    "# prints the count of how many elements from the list fall between the minimum and \n",
    "# maximum (inclusive). For example, in the list [14, 1, 22, 17, 36, 7, -43, 5], for minimum value \n",
    "# 4 and maximum value 17, there are four elements whose values fall between 4 and 17.\n",
    "\n",
    "\n",
    "# Function to count elements within a range in a list\n",
    "def count_elements_in_range(lst, min_value, max_value):\n",
    "    # Use list comprehension to filter elements within the specified range\n",
    "    elements_in_range = [element for element in lst if min_value <= element <= max_value]\n",
    "    return len(elements_in_range)\n",
    "\n",
    "# Accept a list from the user\n",
    "numbers = list(map(int, input(\"Enter a list of integers (separated by spaces): \").split()))\n",
    "\n",
    "# Accept minimum and maximum values from the user\n",
    "min_value = int(input(\"Enter the minimum value: \"))\n",
    "max_value = int(input(\"Enter the maximum value: \"))\n",
    "\n",
    "# Call the function to count elements within the range\n",
    "count_in_range = count_elements_in_range(numbers, min_value, max_value)\n",
    "\n",
    "# Print the result\n",
    "print(f\"The count of elements between {min_value} and {max_value} (inclusive) is:\", count_in_range)"
   ]
  },
  {
   "cell_type": "code",
   "execution_count": null,
   "id": "01ef9cbf",
   "metadata": {},
   "outputs": [],
   "source": [
    "# Question 10: Write a program that accepts a list of real numbers and prints true if the list is in sorted \n",
    "# (nondecreasing) order and false otherwise. For example, if lists named list1 and list2 store \n",
    "# [16.1, 12.3, 22.2, 14.4] and [1.5, 4.3, 7.0, 19.5, 25.1, 46.2] respectively, the program should \n",
    "# print false for list1 and true for list2 respectively. Assume the list has at least one element. \n",
    "# A one-element list is sorted.\n",
    "\n",
    "# Function to check if a list is in sorted (non-decreasing) order\n",
    "def is_sorted(lst):\n",
    "    # Use all() to check if every element is less than or equal to the next one\n",
    "    return all(lst[i] <= lst[i + 1] for i in range(len(lst) - 1))\n",
    "\n",
    "# Accept a list of real numbers from the user\n",
    "real_numbers = list(map(float, input(\"Enter a list of real numbers (separated by spaces): \").split()))\n",
    "\n",
    "# Call the function to check if the list is in sorted order\n",
    "sorted_result = is_sorted(real_numbers)\n",
    "\n",
    "# Print the result\n",
    "print(\"Is the list in sorted order:\", sorted_result)"
   ]
  },
  {
   "cell_type": "code",
   "execution_count": null,
   "id": "1b6696f4",
   "metadata": {},
   "outputs": [],
   "source": []
  },
  {
   "cell_type": "code",
   "execution_count": null,
   "id": "8db84a30",
   "metadata": {},
   "outputs": [],
   "source": []
  },
  {
   "cell_type": "code",
   "execution_count": null,
   "id": "d967fcbd",
   "metadata": {},
   "outputs": [],
   "source": []
  }
 ],
 "metadata": {
  "kernelspec": {
   "display_name": "Python 3 (ipykernel)",
   "language": "python",
   "name": "python3"
  },
  "language_info": {
   "codemirror_mode": {
    "name": "ipython",
    "version": 3
   },
   "file_extension": ".py",
   "mimetype": "text/x-python",
   "name": "python",
   "nbconvert_exporter": "python",
   "pygments_lexer": "ipython3",
   "version": "3.10.9"
  }
 },
 "nbformat": 4,
 "nbformat_minor": 5
}
